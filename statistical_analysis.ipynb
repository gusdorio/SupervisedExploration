{
 "cells": [
  {
   "cell_type": "markdown",
   "id": "97354098",
   "metadata": {},
   "source": [
    "# Statistical Analysis of Basic Baskets"
   ]
  },
  {
   "cell_type": "markdown",
   "id": "73ab0228",
   "metadata": {},
   "source": []
  }
 ],
 "metadata": {
  "language_info": {
   "name": "python"
  }
 },
 "nbformat": 4,
 "nbformat_minor": 5
}
